{
 "cells": [
  {
   "cell_type": "markdown",
   "metadata": {
    "application/vnd.databricks.v1+cell": {
     "cellMetadata": {
      "byteLimit": 2048000,
      "rowLimit": 10000
     },
     "inputWidgets": {},
     "nuid": "e37b824f-3fd4-4a51-ac1b-b03ace9f76e9",
     "showTitle": false,
     "tableResultSettingsMap": {},
     "title": ""
    }
   },
   "source": [
    "These queries provide comprehensive insights into:\n",
    "\n",
    "Customer segmentation based on value and behavior\n",
    "Purchase patterns including frequency, recency, and basket composition\n",
    "Digital engagement across channels and conversion funnels\n",
    "Personalization effectiveness through affinity scores\n",
    "Retention and lifecycle management opportunities\n",
    "Size/fit optimization to reduce returns\n",
    "\n",
    "Each query is optimized for your star schema and provides actionable insights for business decisions. Would you like me to create additional queries focused on specific customer behavior aspects or create a dashboard-ready view combining these metrics?"
   ]
  },
  {
   "cell_type": "markdown",
   "metadata": {
    "application/vnd.databricks.v1+cell": {
     "cellMetadata": {
      "byteLimit": 2048000,
      "rowLimit": 10000
     },
     "inputWidgets": {},
     "nuid": "6ec54999-bb9f-4aca-8523-8f616204cd2c",
     "showTitle": false,
     "tableResultSettingsMap": {},
     "title": ""
    }
   },
   "source": [
    "# 1 📊 Customer Segmentation & Profiling"
   ]
  },
  {
   "cell_type": "code",
   "execution_count": 0,
   "metadata": {
    "application/vnd.databricks.v1+cell": {
     "cellMetadata": {
      "byteLimit": 2048000,
      "rowLimit": 10000
     },
     "inputWidgets": {},
     "nuid": "6d53f124-e496-4572-990e-5c6f73ae6a27",
     "showTitle": false,
     "tableResultSettingsMap": {},
     "title": ""
    },
    "vscode": {
     "languageId": "sql"
    }
   },
   "outputs": [],
   "source": [
    "-- 1.1 Customer Lifetime Value Distribution with Behavior Patterns\n",
    "WITH customer_metrics AS (\n",
    "    SELECT \n",
    "        c.customer_key,\n",
    "        c.segment,\n",
    "        c.lifetime_value,\n",
    "        c.preferred_channel,\n",
    "        c.acquisition_channel,\n",
    "        COUNT(DISTINCT s.transaction_id) as total_orders,\n",
    "        SUM(s.net_sales_amount) as total_spent,\n",
    "        AVG(s.net_sales_amount) as avg_order_value,\n",
    "        DATEDIFF(MAX(d.calendar_date), MIN(d.calendar_date)) as customer_lifespan_days,\n",
    "        COUNT(DISTINCT d.month) as active_months,\n",
    "        SUM(CASE WHEN s.is_return THEN 1 ELSE 0 END) * 100.0 / COUNT(*) as return_rate\n",
    "    FROM juan_dev.retail.gold_customer_dim c\n",
    "    LEFT JOIN juan_dev.retail.gold_sales_fact s ON c.customer_key = s.customer_key\n",
    "    LEFT JOIN juan_dev.retail.gold_date_dim d ON s.date_key = d.date_key\n",
    "    WHERE c.is_current = true\n",
    "    GROUP BY c.customer_key, c.segment, c.lifetime_value, c.preferred_channel, c.acquisition_channel\n",
    "),\n",
    "percentiles AS (\n",
    "    SELECT \n",
    "        PERCENTILE_CONT(0.25) WITHIN GROUP (ORDER BY lifetime_value) as ltv_p25,\n",
    "        PERCENTILE_CONT(0.50) WITHIN GROUP (ORDER BY lifetime_value) as ltv_p50,\n",
    "        PERCENTILE_CONT(0.75) WITHIN GROUP (ORDER BY lifetime_value) as ltv_p75,\n",
    "        PERCENTILE_CONT(0.90) WITHIN GROUP (ORDER BY lifetime_value) as ltv_p90\n",
    "    FROM customer_metrics\n",
    ")\n",
    "SELECT \n",
    "    CASE \n",
    "        WHEN cm.lifetime_value >= p.ltv_p90 THEN 'VIP (Top 10%)'\n",
    "        WHEN cm.lifetime_value >= p.ltv_p75 THEN 'High Value (75-90%)'\n",
    "        WHEN cm.lifetime_value >= p.ltv_p50 THEN 'Mid Value (50-75%)'\n",
    "        WHEN cm.lifetime_value >= p.ltv_p25 THEN 'Low Value (25-50%)'\n",
    "        ELSE 'Entry Level (Bottom 25%)'\n",
    "    END as value_tier,\n",
    "    cm.segment,\n",
    "    COUNT(*) as customer_count,\n",
    "    AVG(cm.total_orders) as avg_orders,\n",
    "    AVG(cm.total_spent) as avg_revenue,\n",
    "    AVG(cm.avg_order_value) as avg_basket_size,\n",
    "    AVG(cm.customer_lifespan_days) as avg_lifespan_days,\n",
    "    AVG(cm.return_rate) as avg_return_rate\n",
    "FROM customer_metrics cm\n",
    "CROSS JOIN percentiles p\n",
    "GROUP BY 1, 2\n",
    "ORDER BY 1, 2;"
   ]
  },
  {
   "cell_type": "code",
   "execution_count": 0,
   "metadata": {
    "application/vnd.databricks.v1+cell": {
     "cellMetadata": {
      "byteLimit": 2048000,
      "rowLimit": 10000
     },
     "inputWidgets": {},
     "nuid": "2f401a02-5198-4f0c-a932-7834ca6d9cd5",
     "showTitle": false,
     "tableResultSettingsMap": {},
     "title": ""
    },
    "vscode": {
     "languageId": "sql"
    }
   },
   "outputs": [],
   "source": [
    "-- 1.2 Customer Journey & Channel Migration Analysis\n",
    "WITH channel_journey AS (\n",
    "    SELECT \n",
    "        c.customer_key,\n",
    "        c.acquisition_channel,\n",
    "        c.preferred_channel,\n",
    "        s.channel_key,\n",
    "        ch.channel_category,\n",
    "        d.fiscal_quarter,\n",
    "        d.fiscal_year,\n",
    "        ROW_NUMBER() OVER (PARTITION BY c.customer_key ORDER BY d.calendar_date) as purchase_sequence,\n",
    "        COUNT(*) OVER (PARTITION BY c.customer_key) as total_purchases\n",
    "    FROM juan_dev.retail.gold_customer_dim c\n",
    "    JOIN juan_dev.retail.gold_sales_fact s ON c.customer_key = s.customer_key\n",
    "    JOIN juan_dev.retail.gold_channel_dim ch ON s.channel_key = ch.channel_key\n",
    "    JOIN juan_dev.retail.gold_date_dim d ON s.date_key = d.date_key\n",
    "    WHERE c.is_current = true\n",
    ")\n",
    "SELECT \n",
    "    acquisition_channel,\n",
    "    preferred_channel,\n",
    "    channel_category as current_channel,\n",
    "    COUNT(DISTINCT customer_key) as customers,\n",
    "    AVG(CASE WHEN purchase_sequence = 1 THEN 1.0 ELSE 0 END) * 100 as pct_first_purchase,\n",
    "    AVG(CASE WHEN purchase_sequence = total_purchases THEN 1.0 ELSE 0 END) * 100 as pct_last_purchase,\n",
    "    AVG(total_purchases) as avg_purchases_per_customer\n",
    "FROM channel_journey\n",
    "GROUP BY acquisition_channel, preferred_channel, channel_category\n",
    "HAVING COUNT(*) > 5\n",
    "ORDER BY customers DESC;"
   ]
  },
  {
   "cell_type": "markdown",
   "metadata": {
    "application/vnd.databricks.v1+cell": {
     "cellMetadata": {
      "byteLimit": 2048000,
      "rowLimit": 10000
     },
     "inputWidgets": {},
     "nuid": "9b4f2552-4a2a-4dd6-b1ca-92fae09433da",
     "showTitle": false,
     "tableResultSettingsMap": {},
     "title": ""
    }
   },
   "source": [
    "# 2 🛒 Purchase Behavior Analysis"
   ]
  },
  {
   "cell_type": "code",
   "execution_count": 0,
   "metadata": {
    "application/vnd.databricks.v1+cell": {
     "cellMetadata": {
      "byteLimit": 2048000,
      "rowLimit": 10000
     },
     "inputWidgets": {},
     "nuid": "0a668d87-4cd9-4b07-a0a7-60b8352f2580",
     "showTitle": false,
     "tableResultSettingsMap": {},
     "title": ""
    }
   },
   "outputs": [],
   "source": [
    "-- 2.1 Purchase Frequency & Recency Segmentation (RFM-style)\n",
    "WITH customer_purchases AS (\n",
    "    SELECT \n",
    "        c.customer_key,\n",
    "        c.customer_id,\n",
    "        c.segment,\n",
    "        s.transaction_id,\n",
    "        d.calendar_date,\n",
    "        s.net_sales_amount,\n",
    "        LEAD(d.calendar_date) OVER (\n",
    "            PARTITION BY c.customer_key \n",
    "            ORDER BY d.calendar_date\n",
    "        ) as next_purchase_date\n",
    "    FROM juan_dev.retail.gold_customer_dim c\n",
    "    LEFT JOIN juan_dev.retail.gold_sales_fact s ON c.customer_key = s.customer_key\n",
    "    LEFT JOIN juan_dev.retail.gold_date_dim d ON s.date_key = d.date_key\n",
    "    WHERE c.is_current = true\n",
    "        AND s.is_return = false\n",
    "),\n",
    "customer_rfm AS (\n",
    "    SELECT\n",
    "        customer_key,\n",
    "        customer_id,\n",
    "        segment,\n",
    "        COUNT(DISTINCT transaction_id) as frequency,\n",
    "        DATEDIFF(CURRENT_DATE, MAX(calendar_date)) as recency_days,\n",
    "        SUM(net_sales_amount) as monetary_value,\n",
    "        AVG(DATEDIFF(next_purchase_date, calendar_date)) as avg_days_between_purchases\n",
    "    FROM customer_purchases\n",
    "    GROUP BY customer_key, customer_id, segment\n",
    "),\n",
    "rfm_scores AS (\n",
    "    SELECT \n",
    "        *,\n",
    "        NTILE(5) OVER (ORDER BY recency_days DESC) as r_score,  -- Lower recency = higher score\n",
    "        NTILE(5) OVER (ORDER BY frequency) as f_score,\n",
    "        NTILE(5) OVER (ORDER BY monetary_value) as m_score\n",
    "    FROM customer_rfm\n",
    "),\n",
    "rfm_labeled AS (\n",
    "    SELECT \n",
    "        *,\n",
    "        CASE \n",
    "            WHEN r_score >= 4 AND f_score >= 4 AND m_score >= 4 THEN 'Champions'\n",
    "            WHEN r_score >= 3 AND f_score >= 3 AND m_score >= 4 THEN 'Loyal Customers'\n",
    "            WHEN r_score >= 3 AND f_score <= 2 AND m_score >= 3 THEN 'Potential Loyalists'\n",
    "            WHEN r_score >= 4 AND f_score <= 2 THEN 'New Customers'\n",
    "            WHEN r_score <= 2 AND f_score >= 3 THEN 'At Risk'\n",
    "            WHEN r_score <= 2 AND f_score <= 2 AND m_score >= 3 THEN 'Cant Lose Them'\n",
    "            WHEN r_score <= 2 AND f_score <= 2 AND m_score <= 2 THEN 'Lost'\n",
    "            ELSE 'Others'\n",
    "        END as rfm_segment\n",
    "    FROM rfm_scores\n",
    ")\n",
    "SELECT \n",
    "    rfm_segment,\n",
    "    COUNT(*) as customer_count,\n",
    "    AVG(frequency) as avg_frequency,\n",
    "    AVG(recency_days) as avg_recency_days,\n",
    "    AVG(monetary_value) as avg_monetary,\n",
    "    AVG(avg_days_between_purchases) as avg_purchase_cycle_days\n",
    "FROM rfm_labeled\n",
    "GROUP BY rfm_segment\n",
    "ORDER BY customer_count DESC;"
   ]
  },
  {
   "cell_type": "code",
   "execution_count": 0,
   "metadata": {
    "application/vnd.databricks.v1+cell": {
     "cellMetadata": {
      "byteLimit": 2048000,
      "rowLimit": 10000
     },
     "inputWidgets": {},
     "nuid": "56ef7c9b-0ce7-4006-90d8-d61a4a70b1d7",
     "showTitle": false,
     "tableResultSettingsMap": {},
     "title": ""
    },
    "vscode": {
     "languageId": "sql"
    }
   },
   "outputs": [],
   "source": [
    "-- 2.2 Basket Analysis - Category Affinity\n",
    "WITH basket_items AS (\n",
    "    SELECT \n",
    "        s.transaction_id,\n",
    "        s.customer_key,\n",
    "        p.category_level_2 as category,\n",
    "        COUNT(*) as items_in_category,\n",
    "        SUM(s.net_sales_amount) as category_revenue\n",
    "    FROM juan_dev.retail.gold_sales_fact s\n",
    "    JOIN juan_dev.retail.gold_product_dim p ON s.product_key = p.product_key\n",
    "    WHERE s.is_return = false\n",
    "    GROUP BY s.transaction_id, s.customer_key, p.category_level_2\n",
    "),\n",
    "category_pairs AS (\n",
    "    SELECT \n",
    "        b1.category as category_1,\n",
    "        b2.category as category_2,\n",
    "        COUNT(DISTINCT b1.transaction_id) as co_occurrence_count,\n",
    "        COUNT(DISTINCT b1.customer_key) as unique_customers,\n",
    "        AVG(b1.category_revenue + b2.category_revenue) as avg_combined_revenue\n",
    "    FROM basket_items b1\n",
    "    JOIN basket_items b2 \n",
    "        ON b1.transaction_id = b2.transaction_id \n",
    "        AND b1.category < b2.category  -- Avoid duplicates\n",
    "    GROUP BY b1.category, b2.category\n",
    ")\n",
    "SELECT \n",
    "    category_1,\n",
    "    category_2,\n",
    "    co_occurrence_count,\n",
    "    unique_customers,\n",
    "    ROUND(avg_combined_revenue, 2) as avg_combined_revenue,\n",
    "    ROUND(co_occurrence_count * 100.0 / (\n",
    "        SELECT COUNT(DISTINCT transaction_id) \n",
    "        FROM juan_dev.retail.gold_sales_fact\n",
    "    ), 2) as basket_percentage\n",
    "FROM category_pairs\n",
    "WHERE co_occurrence_count > 10\n",
    "ORDER BY co_occurrence_count DESC\n",
    "LIMIT 20;"
   ]
  },
  {
   "cell_type": "markdown",
   "metadata": {
    "application/vnd.databricks.v1+cell": {
     "cellMetadata": {
      "byteLimit": 2048000,
      "rowLimit": 10000
     },
     "inputWidgets": {},
     "nuid": "9f5a188e-1110-43de-a7b0-9c63c3e14485",
     "showTitle": false,
     "tableResultSettingsMap": {},
     "title": ""
    }
   },
   "source": [
    "# 3 🔄 Customer Engagement & Digital Behavior"
   ]
  },
  {
   "cell_type": "code",
   "execution_count": 0,
   "metadata": {
    "application/vnd.databricks.v1+cell": {
     "cellMetadata": {
      "byteLimit": 2048000,
      "rowLimit": 10000
     },
     "inputWidgets": {},
     "nuid": "3d3289cd-1a80-456d-98f0-f343365a0c93",
     "showTitle": false,
     "tableResultSettingsMap": {},
     "title": ""
    },
    "vscode": {
     "languageId": "sql"
    }
   },
   "outputs": [],
   "source": [
    "-- 3.1 Multi-Channel Engagement Funnel\n",
    "WITH customer_events AS (\n",
    "    SELECT \n",
    "        e.customer_key,\n",
    "        e.event_type,\n",
    "        e.channel_key,\n",
    "        ch.channel_category,\n",
    "        COUNT(*) as event_count,\n",
    "        SUM(CASE WHEN e.event_type = 'product_view' THEN 1 ELSE 0 END) as product_views,\n",
    "        SUM(CASE WHEN e.event_type = 'add_to_cart' THEN 1 ELSE 0 END) as add_to_carts,\n",
    "        SUM(CASE WHEN e.event_type = 'checkout_complete' THEN 1 ELSE 0 END) as purchases,\n",
    "        COUNT(DISTINCT e.session_id) as sessions,\n",
    "        AVG(e.time_on_page_seconds) as avg_time_on_page\n",
    "    FROM juan_dev.retail.gold_customer_event_fact e\n",
    "    JOIN juan_dev.retail.gold_channel_dim ch ON e.channel_key = ch.channel_key\n",
    "    GROUP BY e.customer_key, e.event_type, e.channel_key, ch.channel_category\n",
    "),\n",
    "funnel_metrics AS (\n",
    "    SELECT \n",
    "        channel_category,\n",
    "        COUNT(DISTINCT customer_key) as unique_visitors,\n",
    "        SUM(product_views) as total_product_views,\n",
    "        SUM(add_to_carts) as total_add_to_carts,\n",
    "        SUM(purchases) as total_purchases,\n",
    "        -- Conversion rates\n",
    "        SUM(add_to_carts) * 100.0 / NULLIF(SUM(product_views), 0) as view_to_cart_rate,\n",
    "        SUM(purchases) * 100.0 / NULLIF(SUM(add_to_carts), 0) as cart_to_purchase_rate,\n",
    "        SUM(purchases) * 100.0 / NULLIF(SUM(product_views), 0) as overall_conversion_rate,\n",
    "        AVG(avg_time_on_page) as avg_engagement_time\n",
    "    FROM customer_events\n",
    "    GROUP BY channel_category\n",
    ")\n",
    "SELECT \n",
    "    channel_category,\n",
    "    unique_visitors,\n",
    "    total_product_views,\n",
    "    total_add_to_carts,\n",
    "    total_purchases,\n",
    "    ROUND(view_to_cart_rate, 2) as view_to_cart_pct,\n",
    "    ROUND(cart_to_purchase_rate, 2) as cart_to_purchase_pct,\n",
    "    ROUND(overall_conversion_rate, 2) as overall_conversion_pct,\n",
    "    ROUND(avg_engagement_time, 0) as avg_seconds_engaged\n",
    "FROM funnel_metrics\n",
    "ORDER BY unique_visitors DESC;"
   ]
  },
  {
   "cell_type": "code",
   "execution_count": 0,
   "metadata": {
    "application/vnd.databricks.v1+cell": {
     "cellMetadata": {
      "byteLimit": 2048000,
      "rowLimit": 10000
     },
     "inputWidgets": {},
     "nuid": "a0f9b26b-f364-4442-8513-5633a977ce83",
     "showTitle": false,
     "tableResultSettingsMap": {},
     "title": ""
    },
    "vscode": {
     "languageId": "sql"
    }
   },
   "outputs": [],
   "source": [
    "-- 3.2 Abandonment Recovery Analysis\n",
    "WITH abandonment_cohorts AS (\n",
    "    SELECT \n",
    "        DATE_TRUNC('week', d.calendar_date) as abandonment_week,\n",
    "        ca.abandonment_stage,\n",
    "        COUNT(*) as total_abandonments,\n",
    "        SUM(ca.cart_value) as total_abandoned_value,\n",
    "        AVG(ca.cart_value) as avg_cart_value,\n",
    "        AVG(ca.items_count) as avg_items_abandoned,\n",
    "        SUM(CASE WHEN ca.recovery_email_sent THEN 1 ELSE 0 END) as emails_sent,\n",
    "        SUM(CASE WHEN ca.recovery_email_opened THEN 1 ELSE 0 END) as emails_opened,\n",
    "        SUM(CASE WHEN ca.recovery_email_clicked THEN 1 ELSE 0 END) as emails_clicked,\n",
    "        SUM(CASE WHEN ca.is_recovered THEN 1 ELSE 0 END) as carts_recovered,\n",
    "        SUM(ca.recovery_revenue) as recovered_revenue\n",
    "    FROM juan_dev.retail.gold_cart_abandonment_fact ca\n",
    "    JOIN juan_dev.retail.gold_date_dim d ON ca.date_key = d.date_key\n",
    "    GROUP BY DATE_TRUNC('week', d.calendar_date), ca.abandonment_stage\n",
    ")\n",
    "SELECT \n",
    "    abandonment_week,\n",
    "    abandonment_stage,\n",
    "    total_abandonments,\n",
    "    ROUND(total_abandoned_value, 2) as total_abandoned_value,\n",
    "    ROUND(avg_cart_value, 2) as avg_cart_value,\n",
    "    ROUND(avg_items_abandoned, 1) as avg_items,\n",
    "    -- Email performance\n",
    "    ROUND(emails_opened * 100.0 / NULLIF(emails_sent, 0), 1) as email_open_rate,\n",
    "    ROUND(emails_clicked * 100.0 / NULLIF(emails_opened, 0), 1) as email_click_rate,\n",
    "    -- Recovery metrics\n",
    "    ROUND(carts_recovered * 100.0 / NULLIF(total_abandonments, 0), 1) as recovery_rate,\n",
    "    ROUND(recovered_revenue, 2) as recovered_revenue,\n",
    "    ROUND(recovered_revenue * 100.0 / NULLIF(total_abandoned_value, 0), 1) as revenue_recovery_rate\n",
    "FROM abandonment_cohorts\n",
    "ORDER BY abandonment_week DESC, total_abandonments DESC;"
   ]
  },
  {
   "cell_type": "markdown",
   "metadata": {
    "application/vnd.databricks.v1+cell": {
     "cellMetadata": {
      "byteLimit": 2048000,
      "rowLimit": 10000
     },
     "inputWidgets": {},
     "nuid": "4dce7db8-5aa6-4e13-a010-86ed20e1a1ff",
     "showTitle": false,
     "tableResultSettingsMap": {},
     "title": ""
    }
   },
   "source": [
    "# 4. 👥 Customer Product Affinity & Personalization"
   ]
  },
  {
   "cell_type": "code",
   "execution_count": 0,
   "metadata": {
    "application/vnd.databricks.v1+cell": {
     "cellMetadata": {
      "byteLimit": 2048000,
      "rowLimit": 10000
     },
     "inputWidgets": {},
     "nuid": "8a602bfe-91f0-437d-8fd0-d1d875f6f01b",
     "showTitle": false,
     "tableResultSettingsMap": {},
     "title": ""
    },
    "vscode": {
     "languageId": "sql"
    }
   },
   "outputs": [],
   "source": [
    "-- 4.1 Personalization Effectiveness Analysis\n",
    "WITH affinity_performance AS (\n",
    "    SELECT \n",
    "        cpa.customer_key,\n",
    "        c.segment,\n",
    "        c.preferred_category,\n",
    "        COUNT(DISTINCT cpa.product_key) as products_with_affinity,\n",
    "        AVG(cpa.affinity_score) as avg_affinity_score,\n",
    "        MAX(cpa.affinity_score) as max_affinity_score,\n",
    "        SUM(cpa.purchase_count) as total_purchases,\n",
    "        SUM(cpa.view_count) as total_views,\n",
    "        AVG(cpa.view_to_purchase_ratio) as avg_conversion,\n",
    "        AVG(cpa.predicted_cltv_impact) as avg_cltv_impact\n",
    "    FROM juan_dev.retail.gold_customer_product_affinity_agg cpa\n",
    "    JOIN juan_dev.retail.gold_customer_dim c ON cpa.customer_key = c.customer_key\n",
    "    WHERE c.is_current = true\n",
    "    GROUP BY cpa.customer_key, c.segment, c.preferred_category\n",
    "),\n",
    "affinity_segments AS (\n",
    "    SELECT \n",
    "        segment,\n",
    "        preferred_category,\n",
    "        COUNT(*) as customer_count,\n",
    "        AVG(products_with_affinity) as avg_products_per_customer,\n",
    "        AVG(avg_affinity_score) as overall_avg_affinity,\n",
    "        AVG(total_purchases) as avg_purchases,\n",
    "        AVG(total_views) as avg_views,\n",
    "        AVG(avg_conversion) * 100 as avg_conversion_rate,\n",
    "        AVG(avg_cltv_impact) as avg_predicted_cltv\n",
    "    FROM affinity_performance\n",
    "    GROUP BY segment, preferred_category\n",
    ")\n",
    "SELECT \n",
    "    segment,\n",
    "    preferred_category,\n",
    "    customer_count,\n",
    "    ROUND(avg_products_per_customer, 1) as avg_products_interested,\n",
    "    ROUND(overall_avg_affinity, 3) as avg_affinity_score,\n",
    "    ROUND(avg_purchases, 1) as avg_purchases,\n",
    "    ROUND(avg_views, 1) as avg_product_views,\n",
    "    ROUND(avg_conversion_rate, 2) as conversion_rate_pct,\n",
    "    ROUND(avg_predicted_cltv, 2) as predicted_cltv_impact\n",
    "FROM affinity_segments\n",
    "ORDER BY customer_count DESC;"
   ]
  },
  {
   "cell_type": "code",
   "execution_count": 0,
   "metadata": {
    "application/vnd.databricks.v1+cell": {
     "cellMetadata": {
      "byteLimit": 2048000,
      "rowLimit": 10000
     },
     "inputWidgets": {},
     "nuid": "f98a5de2-1891-4125-bcf5-0407f62c7f22",
     "showTitle": false,
     "tableResultSettingsMap": {},
     "title": ""
    },
    "vscode": {
     "languageId": "sql"
    }
   },
   "outputs": [],
   "source": [
    "-- 4.2 Cross-Category Purchase Behavior\n",
    "WITH customer_categories AS (\n",
    "    SELECT \n",
    "        s.customer_key,\n",
    "        p.category_level_1,\n",
    "        p.category_level_2,\n",
    "        COUNT(DISTINCT s.transaction_id) as category_purchases,\n",
    "        SUM(s.net_sales_amount) as category_revenue,\n",
    "        AVG(s.net_sales_amount) as avg_order_value\n",
    "    FROM juan_dev.retail.gold_sales_fact s\n",
    "    JOIN juan_dev.retail.gold_product_dim p ON s.product_key = p.product_key\n",
    "    WHERE s.is_return = false\n",
    "    GROUP BY s.customer_key, p.category_level_1, p.category_level_2\n",
    "),\n",
    "category_diversity AS (\n",
    "    SELECT \n",
    "        customer_key,\n",
    "        COUNT(DISTINCT category_level_1) as l1_categories,\n",
    "        COUNT(DISTINCT category_level_2) as l2_categories,\n",
    "        SUM(category_purchases) as total_purchases,\n",
    "        SUM(category_revenue) as total_revenue,\n",
    "        MAX(category_revenue) / NULLIF(SUM(category_revenue), 0) as revenue_concentration\n",
    "    FROM customer_categories\n",
    "    GROUP BY customer_key\n",
    ")\n",
    "SELECT \n",
    "    CASE \n",
    "        WHEN l2_categories >= 5 THEN 'Highly Diverse'\n",
    "        WHEN l2_categories >= 3 THEN 'Moderately Diverse'\n",
    "        WHEN l2_categories = 2 THEN 'Limited Diversity'\n",
    "        ELSE 'Single Category'\n",
    "    END as customer_diversity,\n",
    "    COUNT(*) as customer_count,\n",
    "    AVG(l1_categories) as avg_l1_categories,\n",
    "    AVG(l2_categories) as avg_l2_categories,\n",
    "    AVG(total_purchases) as avg_purchases,\n",
    "    AVG(total_revenue) as avg_revenue,\n",
    "    AVG(revenue_concentration) * 100 as avg_revenue_concentration_pct\n",
    "FROM category_diversity\n",
    "GROUP BY 1\n",
    "ORDER BY customer_count DESC;"
   ]
  },
  {
   "cell_type": "markdown",
   "metadata": {
    "application/vnd.databricks.v1+cell": {
     "cellMetadata": {
      "byteLimit": 2048000,
      "rowLimit": 10000
     },
     "inputWidgets": {},
     "nuid": "944ecd66-5c35-4457-94d9-eb4fec068d73",
     "showTitle": false,
     "tableResultSettingsMap": {},
     "title": ""
    }
   },
   "source": [
    "# 5. 📈 Customer Lifecycle & Retention"
   ]
  },
  {
   "cell_type": "code",
   "execution_count": 0,
   "metadata": {
    "application/vnd.databricks.v1+cell": {
     "cellMetadata": {
      "byteLimit": 2048000,
      "rowLimit": 10000
     },
     "inputWidgets": {},
     "nuid": "c14237d4-57fa-4b75-b631-900689d6e7f0",
     "showTitle": false,
     "tableResultSettingsMap": {},
     "title": ""
    },
    "vscode": {
     "languageId": "sql"
    }
   },
   "outputs": [],
   "source": [
    "-- 5.1 Cohort Retention Analysis\n",
    "WITH customer_cohorts AS (\n",
    "    SELECT \n",
    "        c.customer_key,\n",
    "        DATE_TRUNC('month', c.acquisition_date) as cohort_month,\n",
    "        c.acquisition_channel\n",
    "    FROM juan_dev.retail.gold_customer_dim c\n",
    "    WHERE c.is_current = true\n",
    "),\n",
    "customer_activity AS (\n",
    "    SELECT \n",
    "        cc.customer_key,\n",
    "        cc.cohort_month,\n",
    "        cc.acquisition_channel,\n",
    "        DATE_TRUNC('month', d.calendar_date) as activity_month,\n",
    "        SUM(s.net_sales_amount) as monthly_revenue\n",
    "    FROM customer_cohorts cc\n",
    "    JOIN juan_dev.retail.gold_sales_fact s ON cc.customer_key = s.customer_key\n",
    "    JOIN juan_dev.retail.gold_date_dim d ON s.date_key = d.date_key\n",
    "    WHERE s.is_return = false\n",
    "    GROUP BY cc.customer_key, cc.cohort_month, cc.acquisition_channel, DATE_TRUNC('month', d.calendar_date)\n",
    "),\n",
    "retention_calc AS (\n",
    "    SELECT \n",
    "        cohort_month,\n",
    "        acquisition_channel,\n",
    "        activity_month,\n",
    "        date_diff(MONTH, cohort_month, activity_month) as months_since_acquisition,\n",
    "        COUNT(DISTINCT customer_key) as active_customers,\n",
    "        SUM(monthly_revenue) as cohort_revenue\n",
    "    FROM customer_activity\n",
    "    GROUP BY cohort_month, acquisition_channel, activity_month\n",
    ")\n",
    "SELECT \n",
    "    cohort_month,\n",
    "    acquisition_channel,\n",
    "    months_since_acquisition,\n",
    "    active_customers,\n",
    "    FIRST_VALUE(active_customers) OVER (\n",
    "        PARTITION BY cohort_month, acquisition_channel \n",
    "        ORDER BY months_since_acquisition\n",
    "    ) as cohort_size,\n",
    "    ROUND(active_customers * 100.0 / FIRST_VALUE(active_customers) OVER (\n",
    "        PARTITION BY cohort_month, acquisition_channel \n",
    "        ORDER BY months_since_acquisition\n",
    "    ), 1) as retention_rate,\n",
    "    ROUND(cohort_revenue, 2) as monthly_revenue,\n",
    "    ROUND(cohort_revenue / NULLIF(active_customers, 0), 2) as revenue_per_customer\n",
    "FROM retention_calc\n",
    "WHERE months_since_acquisition <= 12\n",
    "ORDER BY cohort_month DESC, acquisition_channel, months_since_acquisition;"
   ]
  },
  {
   "cell_type": "code",
   "execution_count": 0,
   "metadata": {
    "application/vnd.databricks.v1+cell": {
     "cellMetadata": {
      "byteLimit": 2048000,
      "rowLimit": 10000
     },
     "inputWidgets": {},
     "nuid": "276a5f6a-113d-4891-8074-bbe91e108d41",
     "showTitle": false,
     "tableResultSettingsMap": {},
     "title": ""
    },
    "vscode": {
     "languageId": "sql"
    }
   },
   "outputs": [],
   "source": [
    "-- 5.2 Customer Reactivation Opportunities\n",
    "WITH customer_last_purchase AS (\n",
    "    SELECT \n",
    "        c.customer_key,\n",
    "        c.customer_id,\n",
    "        c.email,\n",
    "        c.segment,\n",
    "        c.lifetime_value,\n",
    "        MAX(d.calendar_date) as last_purchase_date,\n",
    "        DATEDIFF(CURRENT_DATE, MAX(d.calendar_date)) as days_since_purchase,\n",
    "        COUNT(DISTINCT s.transaction_id) as total_orders,\n",
    "        SUM(s.net_sales_amount) as total_spent,\n",
    "        AVG(s.net_sales_amount) as avg_order_value\n",
    "    FROM juan_dev.retail.gold_customer_dim c\n",
    "    JOIN juan_dev.retail.gold_sales_fact s ON c.customer_key = s.customer_key\n",
    "    JOIN juan_dev.retail.gold_date_dim d ON s.date_key = d.date_key\n",
    "    WHERE c.is_current = true\n",
    "        AND s.is_return = false\n",
    "    GROUP BY c.customer_key, c.customer_id, c.email, c.segment, c.lifetime_value\n",
    "),\n",
    "customer_status AS (\n",
    "    SELECT \n",
    "        *,\n",
    "        CASE \n",
    "            WHEN days_since_purchase <= 30 THEN 'Active'\n",
    "            WHEN days_since_purchase <= 90 THEN 'Cooling'\n",
    "            WHEN days_since_purchase <= 180 THEN 'At Risk'\n",
    "            WHEN days_since_purchase <= 365 THEN 'Dormant'\n",
    "            ELSE 'Lost'\n",
    "        END as customer_status,\n",
    "        -- Calculate expected purchase frequency\n",
    "        total_orders * 30.0 / NULLIF(\n",
    "            DATEDIFF(last_purchase_date, \n",
    "                (SELECT MIN(calendar_date) FROM juan_dev.retail.gold_date_dim)\n",
    "            ), 0) as expected_monthly_orders\n",
    "    FROM customer_last_purchase\n",
    ")\n",
    "SELECT \n",
    "    customer_status,\n",
    "    segment,\n",
    "    COUNT(*) as customer_count,\n",
    "    AVG(lifetime_value) as avg_ltv,\n",
    "    AVG(total_orders) as avg_total_orders,\n",
    "    AVG(total_spent) as avg_total_spent,\n",
    "    AVG(avg_order_value) as avg_basket_size,\n",
    "    AVG(days_since_purchase) as avg_days_inactive,\n",
    "    SUM(lifetime_value) as total_ltv_at_risk,\n",
    "    AVG(expected_monthly_orders) as avg_expected_monthly_orders\n",
    "FROM customer_status\n",
    "GROUP BY customer_status, segment\n",
    "ORDER BY customer_status, customer_count DESC;"
   ]
  },
  {
   "cell_type": "markdown",
   "metadata": {
    "application/vnd.databricks.v1+cell": {
     "cellMetadata": {
      "byteLimit": 2048000,
      "rowLimit": 10000
     },
     "inputWidgets": {},
     "nuid": "efe6cae5-f9b3-4326-8de1-00b68fe5c763",
     "showTitle": false,
     "tableResultSettingsMap": {},
     "title": ""
    }
   },
   "source": [
    "# 🎯 6. Size/Fit Behavior Analysis"
   ]
  },
  {
   "cell_type": "code",
   "execution_count": 0,
   "metadata": {
    "application/vnd.databricks.v1+cell": {
     "cellMetadata": {
      "byteLimit": 2048000,
      "rowLimit": 10000
     },
     "inputWidgets": {},
     "nuid": "f421c1a2-4cf6-4de2-87e2-b328aa7d0088",
     "showTitle": false,
     "tableResultSettingsMap": {},
     "title": ""
    },
    "vscode": {
     "languageId": "sql"
    }
   },
   "outputs": [],
   "source": [
    "-- 6.1 Size Fit Impact on Returns\n",
    "WITH size_behavior AS (\n",
    "    SELECT \n",
    "        c.customer_key,\n",
    "        c.size_profile_tops,\n",
    "        c.size_profile_bottoms,\n",
    "        sf.ordered_size,\n",
    "        sf.kept_size,\n",
    "        sf.fit_description,\n",
    "        sf.is_returned,\n",
    "        p.category_level_2\n",
    "    FROM juan_dev.retail.gold_size_fit_bridge sf\n",
    "    JOIN juan_dev.retail.gold_customer_dim c ON sf.customer_key = c.customer_key\n",
    "    JOIN juan_dev.retail.gold_product_dim p ON sf.product_key = p.product_key\n",
    "    WHERE c.is_current = true\n",
    ")\n",
    "SELECT \n",
    "    category_level_2,\n",
    "    fit_description,\n",
    "    COUNT(*) as order_count,\n",
    "    SUM(CASE WHEN is_returned THEN 1 ELSE 0 END) as returns,\n",
    "    ROUND(SUM(CASE WHEN is_returned THEN 1 ELSE 0 END) * 100.0 / COUNT(*), 1) as return_rate,\n",
    "    COUNT(DISTINCT customer_key) as unique_customers,\n",
    "    -- Size ordering patterns\n",
    "    SUM(CASE WHEN ordered_size = kept_size THEN 1 ELSE 0 END) as correct_size_orders,\n",
    "    ROUND(SUM(CASE WHEN ordered_size = kept_size THEN 1 ELSE 0 END) * 100.0 / COUNT(*), 1) as size_accuracy_rate\n",
    "FROM size_behavior\n",
    "GROUP BY category_level_2, fit_description\n",
    "HAVING COUNT(*) > 10\n",
    "ORDER BY order_count DESC;"
   ]
  }
 ],
 "metadata": {
  "application/vnd.databricks.v1+notebook": {
   "computePreferences": null,
   "dashboards": [],
   "environmentMetadata": null,
   "inputWidgetPreferences": null,
   "language": "sql",
   "notebookMetadata": {
    "pythonIndentUnit": 2
   },
   "notebookName": "customer-behavior",
   "widgets": {}
  },
  "kernelspec": {
   "display_name": ".venv",
   "language": "python",
   "name": "python3"
  },
  "language_info": {
   "name": "sql"
  }
 },
 "nbformat": 4,
 "nbformat_minor": 0
}
