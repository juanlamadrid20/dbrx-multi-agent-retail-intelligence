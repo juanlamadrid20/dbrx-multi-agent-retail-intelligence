{
 "cells": [
  {
   "cell_type": "markdown",
   "metadata": {},
   "source": [
    "Strategic Cross-Domain Questions for Fashion Retail Leadership\n",
    "- The most impactful executive questions bridge customer behavior and inventory operations to drive demand-driven personalization at scale. Here are the critical questions that require both data domains:"
   ]
  },
  {
   "cell_type": "markdown",
   "metadata": {
    "application/vnd.databricks.v1+cell": {
     "cellMetadata": {},
     "inputWidgets": {},
     "nuid": "9a91fae8-d0bb-48f4-be0a-011854ed4b09",
     "showTitle": false,
     "tableResultSettingsMap": {},
     "title": ""
    }
   },
   "source": [
    "🎯 Key Insights These Queries Enable\n",
    "\n",
    "- Demand-Supply Alignment: Identifies where high customer affinity doesn't match inventory availability\n",
    "- Financial Impact: Quantifies lost revenue from stockouts and tied-up capital from overstock\n",
    "- Personalization at Scale: Shows how to deliver relevant recommendations constrained by actual inventory\n",
    "- Omnichannel Optimization: Reveals how customer channel behavior should influence inventory distribution\n",
    "- Predictive Actions: Combines forecast accuracy with customer behavior to preempt issues  \n",
    "\n",
    "\n",
    "These queries demonstrate the multiplicative effect where customer behavior data × inventory data = exponentially better decision-making than either dataset alone."
   ]
  },
  {
   "cell_type": "markdown",
   "metadata": {
    "application/vnd.databricks.v1+cell": {
     "cellMetadata": {},
     "inputWidgets": {},
     "nuid": "6f91cb99-f575-4121-8e35-c2c6a928fc65",
     "showTitle": false,
     "tableResultSettingsMap": {},
     "title": ""
    }
   },
   "source": [
    "Strategic Cross-Domain Questions for Fashion Retail Leadership\n",
    "The most impactful executive questions bridge customer behavior and inventory operations to drive demand-driven personalization at scale. Here are the critical questions that require both data domains:"
   ]
  },
  {
   "cell_type": "code",
   "execution_count": 0,
   "metadata": {
    "application/vnd.databricks.v1+cell": {
     "cellMetadata": {
      "byteLimit": 2048000,
      "rowLimit": 10000
     },
     "inputWidgets": {},
     "nuid": "68f33edc-152d-48a6-89c0-16c461a84ff5",
     "showTitle": false,
     "tableResultSettingsMap": {},
     "title": ""
    }
   },
   "outputs": [],
   "source": [
    "-- \"What's our real-time ability to fulfill demand for trending products across channels?\"\n",
    "WITH weekly_sales AS (\n",
    "    SELECT \n",
    "        s.product_key,\n",
    "        d.calendar_date,\n",
    "        SUM(s.quantity_sold) as weekly_quantity_sold\n",
    "    FROM juan_dev.retail.gold_sales_fact s\n",
    "    JOIN juan_dev.retail.gold_date_dim d ON s.date_key = d.date_key\n",
    "    WHERE d.calendar_date >= DATE_SUB(CURRENT_DATE, 14) -- 2 weeks for lag\n",
    "    GROUP BY s.product_key, d.calendar_date\n",
    "),\n",
    "trending_products AS (\n",
    "    SELECT \n",
    "        cpa.product_key,\n",
    "        p.product_name,\n",
    "        p.category_level_2,\n",
    "        AVG(cpa.affinity_score) as avg_affinity,\n",
    "        SUM(cpa.view_count) as total_views_last_7d,\n",
    "        ws.weekly_quantity_sold as units_sold_last_7d,\n",
    "        ws_prev.weekly_quantity_sold as units_sold_prev_7d,\n",
    "        (ws.weekly_quantity_sold / NULLIF(ws_prev.weekly_quantity_sold, 0)) - 1 as week_over_week_growth\n",
    "    FROM juan_dev.retail.gold_customer_product_affinity_agg cpa\n",
    "    JOIN juan_dev.retail.gold_product_dim p ON cpa.product_key = p.product_key\n",
    "    JOIN (\n",
    "        SELECT product_key, SUM(weekly_quantity_sold) as weekly_quantity_sold\n",
    "        FROM weekly_sales\n",
    "        WHERE calendar_date >= DATE_SUB(CURRENT_DATE, 7)\n",
    "        GROUP BY product_key\n",
    "    ) ws ON cpa.product_key = ws.product_key\n",
    "    LEFT JOIN (\n",
    "        SELECT product_key, SUM(weekly_quantity_sold) as weekly_quantity_sold\n",
    "        FROM weekly_sales\n",
    "        WHERE calendar_date BETWEEN DATE_SUB(CURRENT_DATE, 14) AND DATE_SUB(CURRENT_DATE, 8)\n",
    "        GROUP BY product_key\n",
    "    ) ws_prev ON cpa.product_key = ws_prev.product_key\n",
    "    WHERE cpa.affinity_score IS NOT NULL\n",
    "    GROUP BY cpa.product_key, p.product_name, p.category_level_2, ws.weekly_quantity_sold, ws_prev.weekly_quantity_sold\n",
    "    HAVING week_over_week_growth > 0.5  -- 50%+ growth\n",
    "),\n",
    "inventory_coverage AS (\n",
    "    SELECT \n",
    "        tp.product_key,\n",
    "        tp.product_name,\n",
    "        tp.week_over_week_growth,\n",
    "        SUM(CASE WHEN l.channel = 'physical' THEN i.quantity_available ELSE 0 END) as store_inventory,\n",
    "        SUM(CASE WHEN l.channel = 'digital' THEN i.quantity_available ELSE 0 END) as warehouse_inventory,\n",
    "        AVG(i.days_of_supply) as avg_days_supply,\n",
    "        tp.units_sold_last_7d * 4 as projected_monthly_demand\n",
    "    FROM trending_products tp\n",
    "    JOIN juan_dev.retail.gold_inventory_fact i ON tp.product_key = i.product_key\n",
    "    JOIN juan_dev.retail.gold_location_dim l ON i.location_key = l.location_key\n",
    "    WHERE i.date_key = (SELECT MAX(date_key) FROM juan_dev.retail.gold_inventory_fact)\n",
    "    GROUP BY tp.product_key, tp.product_name, tp.week_over_week_growth, tp.units_sold_last_7d\n",
    ")\n",
    "SELECT \n",
    "    product_name,\n",
    "    ROUND(week_over_week_growth * 100, 1) as growth_pct,\n",
    "    store_inventory,\n",
    "    warehouse_inventory,\n",
    "    avg_days_supply,\n",
    "    projected_monthly_demand,\n",
    "    CASE \n",
    "        WHEN avg_days_supply < 7 THEN 'CRITICAL - Stockout Risk'\n",
    "        WHEN avg_days_supply < 14 THEN 'WARNING - Low Coverage'\n",
    "        ELSE 'OK'\n",
    "    END as inventory_status,\n",
    "    ROUND((store_inventory + warehouse_inventory) * 100.0 / NULLIF(projected_monthly_demand, 0), 1) as demand_coverage_pct\n",
    "FROM inventory_coverage\n",
    "ORDER BY growth_pct DESC;"
   ]
  },
  {
   "cell_type": "markdown",
   "metadata": {
    "application/vnd.databricks.v1+cell": {
     "cellMetadata": {},
     "inputWidgets": {},
     "nuid": "abdf9746-8399-492e-9f00-02c4f9244280",
     "showTitle": false,
     "tableResultSettingsMap": {},
     "title": ""
    }
   },
   "source": [
    "# CFO"
   ]
  },
  {
   "cell_type": "code",
   "execution_count": 0,
   "metadata": {
    "application/vnd.databricks.v1+cell": {
     "cellMetadata": {
      "byteLimit": 2048000,
      "rowLimit": 10000
     },
     "inputWidgets": {},
     "nuid": "daaa9e0b-bf96-4e26-ad15-c20adcfa9e62",
     "showTitle": false,
     "tableResultSettingsMap": {},
     "title": ""
    }
   },
   "outputs": [],
   "source": [
    "-- \"What's the financial impact of misaligned inventory versus customer demand?\"\n",
    "WITH customer_demand AS (\n",
    "    -- High affinity products by customer segment\n",
    "    SELECT \n",
    "        c.segment,\n",
    "        c.geo_region,\n",
    "        p.product_key,\n",
    "        p.category_level_2,\n",
    "        p.base_price,\n",
    "        COUNT(DISTINCT cpa.customer_key) as interested_customers,\n",
    "        AVG(cpa.affinity_score) as avg_affinity,\n",
    "        SUM(cpa.predicted_cltv_impact) as total_cltv_opportunity\n",
    "    FROM juan_dev.retail.gold_customer_product_affinity_agg cpa\n",
    "    JOIN juan_dev.retail.gold_customer_dim c ON cpa.customer_key = c.customer_key\n",
    "    JOIN juan_dev.retail.gold_product_dim p ON cpa.product_key = p.product_key\n",
    "    WHERE cpa.affinity_score > 0.7  -- High affinity only\n",
    "        AND c.is_current = true\n",
    "    GROUP BY c.segment, c.geo_region, p.product_key, p.category_level_2, p.base_price\n",
    "),\n",
    "inventory_position AS (\n",
    "    SELECT \n",
    "        l.location_key,\n",
    "        CASE \n",
    "            WHEN l.location_name LIKE '%NYC%' OR l.location_name LIKE '%Boston%' THEN 'Northeast'\n",
    "            WHEN l.location_name LIKE '%LA%' OR l.location_name LIKE '%Seattle%' THEN 'West'\n",
    "            WHEN l.location_name LIKE '%Miami%' OR l.location_name LIKE '%Atlanta%' THEN 'Southeast'\n",
    "            ELSE 'Other'\n",
    "        END as region,\n",
    "        i.product_key,\n",
    "        i.quantity_available,\n",
    "        i.inventory_value_retail,\n",
    "        i.is_stockout,\n",
    "        i.is_overstock\n",
    "    FROM juan_dev.retail.gold_inventory_fact i\n",
    "    JOIN juan_dev.retail.gold_location_dim l ON i.location_key = l.location_key\n",
    "    WHERE i.date_key = (SELECT MAX(date_key) FROM juan_dev.retail.gold_inventory_fact)\n",
    ")\n",
    "SELECT \n",
    "    cd.segment,\n",
    "    cd.geo_region,\n",
    "    cd.category_level_2,\n",
    "    SUM(cd.interested_customers) as high_affinity_customers,\n",
    "    SUM(cd.total_cltv_opportunity) as revenue_opportunity,\n",
    "    SUM(ip.quantity_available) as available_inventory,\n",
    "    SUM(ip.inventory_value_retail) as inventory_value,\n",
    "    SUM(CASE WHEN ip.is_stockout THEN cd.interested_customers ELSE 0 END) as customers_facing_stockout,\n",
    "    SUM(CASE WHEN ip.is_stockout THEN cd.total_cltv_opportunity ELSE 0 END) as lost_revenue_opportunity,\n",
    "    SUM(CASE WHEN ip.is_overstock AND cd.avg_affinity < 0.3 THEN ip.inventory_value_retail ELSE 0 END) as overstock_exposure\n",
    "FROM customer_demand cd\n",
    "LEFT JOIN inventory_position ip \n",
    "    ON cd.product_key = ip.product_key \n",
    "    AND cd.geo_region = ip.region\n",
    "GROUP BY cd.segment, cd.geo_region, cd.category_level_2\n",
    "ORDER BY lost_revenue_opportunity DESC;"
   ]
  },
  {
   "cell_type": "markdown",
   "metadata": {
    "application/vnd.databricks.v1+cell": {
     "cellMetadata": {},
     "inputWidgets": {},
     "nuid": "1549570e-c720-4677-b7ad-2b048db69245",
     "showTitle": false,
     "tableResultSettingsMap": {},
     "title": ""
    }
   },
   "source": [
    "# 🎯 CMO Questions"
   ]
  },
  {
   "cell_type": "code",
   "execution_count": 0,
   "metadata": {
    "application/vnd.databricks.v1+cell": {
     "cellMetadata": {
      "byteLimit": 2048000,
      "rowLimit": 10000
     },
     "inputWidgets": {},
     "nuid": "90fd004f-b09f-4147-9979-b48ee2deb6b0",
     "showTitle": false,
     "tableResultSettingsMap": {},
     "title": ""
    }
   },
   "outputs": [],
   "source": [
    "-- \"How do we optimize personalized recommendations based on real-time inventory?\"\n",
    "WITH customer_preferences AS (\n",
    "    SELECT \n",
    "        c.customer_key,\n",
    "        c.preferred_channel,\n",
    "        c.nearest_store_id,\n",
    "        cpa.product_key,\n",
    "        cpa.affinity_score,\n",
    "        cpa.predicted_cltv_impact,\n",
    "        ROW_NUMBER() OVER (PARTITION BY c.customer_key ORDER BY cpa.affinity_score DESC) as preference_rank\n",
    "    FROM juan_dev.retail.gold_customer_dim c\n",
    "    JOIN juan_dev.retail.gold_customer_product_affinity_agg cpa ON c.customer_key = cpa.customer_key\n",
    "    WHERE c.is_current = true \n",
    "        AND c.segment = 'regular'  -- Focus on regular customers\n",
    "        AND cpa.affinity_score > 0.6\n",
    "),\n",
    "channel_inventory AS (\n",
    "    SELECT \n",
    "        i.product_key,\n",
    "        CASE \n",
    "            WHEN ch.channel_category IN ('web', 'mobile_app') THEN 'digital'\n",
    "            WHEN ch.channel_category = 'store' THEN l.location_key\n",
    "        END as fulfillment_point,\n",
    "        SUM(i.quantity_available) as available_qty,\n",
    "        MIN(i.days_of_supply) as min_days_supply\n",
    "    FROM juan_dev.retail.gold_inventory_fact i\n",
    "    JOIN juan_dev.retail.gold_location_dim l ON i.location_key = l.location_key\n",
    "    JOIN juan_dev.retail.gold_channel_dim ch ON ch.channel_type = l.channel\n",
    "    WHERE i.date_key = (SELECT MAX(date_key) FROM juan_dev.retail.gold_inventory_fact)\n",
    "    GROUP BY i.product_key, fulfillment_point\n",
    ")\n",
    "SELECT \n",
    "    cp.preferred_channel,\n",
    "    COUNT(DISTINCT cp.customer_key) as customers,\n",
    "    COUNT(DISTINCT CASE WHEN ci.available_qty > 0 THEN cp.product_key END) as available_recommendations,\n",
    "    COUNT(DISTINCT cp.product_key) as total_recommendations,\n",
    "    ROUND(COUNT(DISTINCT CASE WHEN ci.available_qty > 0 THEN cp.product_key END) * 100.0 / \n",
    "          COUNT(DISTINCT cp.product_key), 1) as recommendation_fulfillment_rate,\n",
    "    SUM(CASE WHEN ci.available_qty > 0 THEN cp.predicted_cltv_impact ELSE 0 END) as realizable_cltv,\n",
    "    SUM(cp.predicted_cltv_impact) - SUM(CASE WHEN ci.available_qty > 0 THEN cp.predicted_cltv_impact ELSE 0 END) as missed_cltv_opportunity\n",
    "FROM customer_preferences cp\n",
    "LEFT JOIN channel_inventory ci ON cp.product_key = ci.product_key\n",
    "WHERE cp.preference_rank <= 10  -- Top 10 recommendations per customer\n",
    "GROUP BY cp.preferred_channel;"
   ]
  },
  {
   "cell_type": "code",
   "execution_count": 0,
   "metadata": {
    "application/vnd.databricks.v1+cell": {
     "cellMetadata": {
      "byteLimit": 2048000,
      "rowLimit": 10000
     },
     "inputWidgets": {},
     "nuid": "8cc2f1e4-95ac-470a-ac2b-0206bba41f26",
     "showTitle": false,
     "tableResultSettingsMap": {},
     "title": ""
    }
   },
   "outputs": [],
   "source": [
    "-- \"What's the impact of size/fit issues on inventory efficiency?\"\n",
    "WITH size_performance AS (\n",
    "    SELECT \n",
    "        p.product_key,\n",
    "        p.product_name,\n",
    "        p.category_level_2,\n",
    "        sf.ordered_size,\n",
    "        COUNT(*) as orders,\n",
    "        SUM(CASE WHEN sf.is_returned THEN 1 ELSE 0 END) as returns,\n",
    "        AVG(sf.fit_score) as avg_fit_score\n",
    "    FROM juan_dev.retail.gold_size_fit_bridge sf\n",
    "    JOIN juan_dev.retail.gold_product_dim p ON sf.product_key = p.product_key\n",
    "    GROUP BY p.product_key, p.product_name, p.category_level_2, sf.ordered_size\n",
    "),\n",
    "inventory_by_size AS (\n",
    "    SELECT \n",
    "        i.product_key,\n",
    "        p.size_range,\n",
    "        SUM(i.quantity_on_hand) as total_inventory,\n",
    "        SUM(i.inventory_value_retail) as inventory_value,\n",
    "        AVG(i.days_of_supply) as avg_days_supply\n",
    "    FROM juan_dev.retail.gold_inventory_fact i\n",
    "    JOIN juan_dev.retail.gold_product_dim p ON i.product_key = p.product_key\n",
    "    WHERE i.date_key = (SELECT MAX(date_key) FROM juan_dev.retail.gold_inventory_fact)\n",
    "    GROUP BY i.product_key, p.size_range\n",
    ")\n",
    "SELECT \n",
    "    sp.category_level_2,\n",
    "    sp.ordered_size,\n",
    "    SUM(sp.orders) as total_orders,\n",
    "    SUM(sp.returns) as total_returns,\n",
    "    ROUND(SUM(sp.returns) * 100.0 / SUM(sp.orders), 1) as return_rate,\n",
    "    AVG(sp.avg_fit_score) as avg_fit_score,\n",
    "    SUM(ibs.total_inventory) as current_inventory,\n",
    "    SUM(ibs.inventory_value) as tied_up_capital,\n",
    "    ROUND(SUM(sp.returns) * AVG(ibs.inventory_value) / NULLIF(SUM(ibs.total_inventory), 0), 2) as return_cost_impact\n",
    "FROM size_performance sp\n",
    "JOIN inventory_by_size ibs ON sp.product_key = ibs.product_key\n",
    "GROUP BY sp.category_level_2, sp.ordered_size\n",
    "HAVING SUM(sp.orders) > 50\n",
    "ORDER BY return_rate DESC;"
   ]
  },
  {
   "cell_type": "markdown",
   "metadata": {
    "application/vnd.databricks.v1+cell": {
     "cellMetadata": {},
     "inputWidgets": {},
     "nuid": "4c41ba91-590a-49c9-be67-87ae43038bda",
     "showTitle": false,
     "tableResultSettingsMap": {},
     "title": ""
    }
   },
   "source": [
    "# 📦 COO/Supply Chain Questions"
   ]
  },
  {
   "cell_type": "code",
   "execution_count": 0,
   "metadata": {
    "application/vnd.databricks.v1+cell": {
     "cellMetadata": {
      "byteLimit": 2048000,
      "rowLimit": 10000
     },
     "inputWidgets": {},
     "nuid": "8f49807e-808f-402f-b084-cf3c2acd5551",
     "showTitle": false,
     "tableResultSettingsMap": {},
     "title": ""
    }
   },
   "outputs": [],
   "source": [
    "-- \"How do we optimize inventory allocation based on customer behavior patterns?\"\n",
    "WITH demand_patterns AS (\n",
    "    SELECT \n",
    "        l.location_key,\n",
    "        l.location_name,\n",
    "        l.location_type,\n",
    "        p.category_level_2,\n",
    "        -- Historical sales velocity\n",
    "        AVG(s.quantity_sold) as avg_daily_sales,\n",
    "        STDDEV(s.quantity_sold) as sales_volatility,\n",
    "        -- Customer engagement\n",
    "        COUNT(DISTINCT ce.customer_key) as engaged_customers,\n",
    "        AVG(ce.event_value) as avg_engagement_value,\n",
    "        -- Forecast accuracy\n",
    "        AVG(df.forecast_accuracy) as forecast_accuracy,\n",
    "        AVG(df.mape) as avg_mape\n",
    "    FROM juan_dev.retail.gold_location_dim l\n",
    "    LEFT JOIN juan_dev.retail.gold_sales_fact s ON l.location_key = s.location_key\n",
    "    LEFT JOIN juan_dev.retail.gold_customer_event_fact ce ON l.location_key = ce.location_key\n",
    "    LEFT JOIN juan_dev.retail.gold_demand_forecast_fact df ON l.location_key = df.location_key\n",
    "    JOIN juan_dev.retail.gold_product_dim p ON s.product_key = p.product_key\n",
    "    JOIN juan_dev.retail.gold_date_dim d ON s.date_key = d.date_key\n",
    "    WHERE d.calendar_date >= DATE_SUB(CURRENT_DATE, 30)\n",
    "    GROUP BY l.location_key, l.location_name, l.location_type, p.category_level_2\n",
    "),\n",
    "current_allocation AS (\n",
    "    SELECT \n",
    "        l.location_key,\n",
    "        p.category_level_2,\n",
    "        SUM(i.quantity_on_hand) as current_inventory,\n",
    "        AVG(i.days_of_supply) as days_of_supply,\n",
    "        SUM(CASE WHEN i.is_stockout THEN 1 ELSE 0 END) as stockout_skus,\n",
    "        SUM(CASE WHEN i.is_overstock THEN 1 ELSE 0 END) as overstock_skus\n",
    "    FROM juan_dev.retail.gold_inventory_fact i\n",
    "    JOIN juan_dev.retail.gold_location_dim l ON i.location_key = l.location_key\n",
    "    JOIN juan_dev.retail.gold_product_dim p ON i.product_key = p.product_key\n",
    "    WHERE i.date_key = (SELECT MAX(date_key) FROM juan_dev.retail.gold_inventory_fact)\n",
    "    GROUP BY l.location_key, p.category_level_2\n",
    ")\n",
    "SELECT \n",
    "    dp.location_name,\n",
    "    dp.location_type,\n",
    "    dp.category_level_2,\n",
    "    ROUND(dp.avg_daily_sales, 1) as avg_daily_velocity,\n",
    "    ROUND(dp.sales_volatility / NULLIF(dp.avg_daily_sales, 0), 2) as coefficient_of_variation,\n",
    "    dp.engaged_customers,\n",
    "    ca.current_inventory,\n",
    "    ca.days_of_supply,\n",
    "    ca.stockout_skus,\n",
    "    ca.overstock_skus,\n",
    "    ROUND(dp.forecast_accuracy, 1) as forecast_accuracy_pct,\n",
    "    -- Recommended inventory level based on demand patterns\n",
    "    ROUND(dp.avg_daily_sales * 30 * (1 + dp.sales_volatility / NULLIF(dp.avg_daily_sales, 0)), 0) as recommended_inventory,\n",
    "    ROUND((dp.avg_daily_sales * 30 * (1 + dp.sales_volatility / NULLIF(dp.avg_daily_sales, 0))) - ca.current_inventory, 0) as inventory_gap\n",
    "FROM demand_patterns dp\n",
    "JOIN current_allocation ca ON dp.location_key = ca.location_key AND dp.category_level_2 = ca.category_level_2\n",
    "WHERE dp.avg_daily_sales > 0\n",
    "ORDER BY ABS(inventory_gap) DESC;"
   ]
  },
  {
   "cell_type": "markdown",
   "metadata": {
    "application/vnd.databricks.v1+cell": {
     "cellMetadata": {},
     "inputWidgets": {},
     "nuid": "6790a306-2be5-49f7-b683-606f997eda3a",
     "showTitle": false,
     "tableResultSettingsMap": {},
     "title": ""
    }
   },
   "source": [
    "# 🔄 Chief Digital Officer Questions"
   ]
  },
  {
   "cell_type": "code",
   "execution_count": 0,
   "metadata": {
    "application/vnd.databricks.v1+cell": {
     "cellMetadata": {
      "byteLimit": 2048000,
      "rowLimit": 10000
     },
     "inputWidgets": {},
     "nuid": "8bb4a3bc-0cda-4136-9ada-339d7a72fba1",
     "showTitle": false,
     "tableResultSettingsMap": {},
     "title": ""
    }
   },
   "outputs": [],
   "source": [
    "-- \"How does omnichannel behavior affect inventory optimization opportunities?\"\n",
    "WITH omnichannel_customers AS (\n",
    "    SELECT \n",
    "        c.customer_key,\n",
    "        c.segment,\n",
    "        COUNT(DISTINCT s.channel_key) as channels_used,\n",
    "        COUNT(DISTINCT ce.channel_key) as browse_channels,\n",
    "        CASE \n",
    "            WHEN COUNT(DISTINCT s.channel_key) >= 3 THEN 'Omnichannel'\n",
    "            WHEN COUNT(DISTINCT s.channel_key) = 2 THEN 'Multichannel'\n",
    "            ELSE 'Single Channel'\n",
    "        END as channel_behavior\n",
    "    FROM juan_dev.retail.gold_customer_dim c\n",
    "    JOIN juan_dev.retail.gold_sales_fact s ON c.customer_key = s.customer_key\n",
    "    LEFT JOIN juan_dev.retail.gold_customer_event_fact ce ON c.customer_key = ce.customer_key\n",
    "    WHERE c.is_current = true\n",
    "    GROUP BY c.customer_key, c.segment\n",
    "),\n",
    "customer_value AS (\n",
    "    SELECT \n",
    "        oc.customer_key,\n",
    "        oc.channel_behavior,\n",
    "        COUNT(DISTINCT s.transaction_id) as transactions,\n",
    "        SUM(s.net_sales_amount) as total_revenue,\n",
    "        SUM(CASE WHEN ca.is_recovered THEN ca.recovery_revenue ELSE 0 END) as recovery_revenue,\n",
    "        MAX(cpa.affinity_score) as max_affinity_score\n",
    "    FROM omnichannel_customers oc\n",
    "    JOIN juan_dev.retail.gold_sales_fact s ON oc.customer_key = s.customer_key\n",
    "    LEFT JOIN juan_dev.retail.gold_cart_abandonment_fact ca ON oc.customer_key = ca.customer_key\n",
    "    LEFT JOIN juan_dev.retail.gold_customer_product_affinity_agg cpa ON oc.customer_key = cpa.customer_key\n",
    "    WHERE s.is_return = false\n",
    "    GROUP BY oc.customer_key, oc.channel_behavior\n",
    "),\n",
    "inventory_fulfillment AS (\n",
    "    SELECT \n",
    "        s.customer_key,\n",
    "        COUNT(DISTINCT CASE WHEN i.quantity_available > 0 THEN s.product_key END) as fulfilled_products,\n",
    "        COUNT(DISTINCT s.product_key) as ordered_products,\n",
    "        COUNT(DISTINCT CASE WHEN i.is_stockout THEN s.product_key END) as stockout_encounters\n",
    "    FROM juan_dev.retail.gold_sales_fact s\n",
    "    JOIN juan_dev.retail.gold_inventory_fact i \n",
    "        ON s.product_key = i.product_key \n",
    "        AND s.location_key = i.location_key\n",
    "        AND s.date_key = i.date_key\n",
    "    GROUP BY s.customer_key\n",
    ")\n",
    "SELECT \n",
    "    cv.channel_behavior,\n",
    "    COUNT(DISTINCT cv.customer_key) as customer_count,\n",
    "    ROUND(AVG(cv.total_revenue), 2) as avg_customer_value,\n",
    "    ROUND(AVG(cv.transactions), 1) as avg_transactions,\n",
    "    ROUND(AVG(if.fulfilled_products * 100.0 / NULLIF(if.ordered_products, 0)), 1) as fulfillment_rate,\n",
    "    ROUND(AVG(if.stockout_encounters), 1) as avg_stockout_encounters,\n",
    "    ROUND(SUM(cv.total_revenue), 2) as total_segment_revenue,\n",
    "    ROUND(AVG(cv.max_affinity_score), 3) as avg_max_affinity\n",
    "FROM customer_value cv\n",
    "JOIN inventory_fulfillment if ON cv.customer_key = if.customer_key\n",
    "GROUP BY cv.channel_behavior\n",
    "ORDER BY avg_customer_value DESC;"
   ]
  },
  {
   "cell_type": "code",
   "execution_count": 0,
   "metadata": {
    "application/vnd.databricks.v1+cell": {
     "cellMetadata": {},
     "inputWidgets": {},
     "nuid": "248be4c8-2d86-468d-a910-29f75d7ce225",
     "showTitle": false,
     "tableResultSettingsMap": {},
     "title": ""
    }
   },
   "outputs": [],
   "source": []
  }
 ],
 "metadata": {
  "application/vnd.databricks.v1+notebook": {
   "computePreferences": null,
   "dashboards": [],
   "environmentMetadata": null,
   "inputWidgetPreferences": null,
   "language": "sql",
   "notebookMetadata": {
    "pythonIndentUnit": 2
   },
   "notebookName": "cross-domain",
   "widgets": {}
  },
  "language_info": {
   "name": "sql"
  }
 },
 "nbformat": 4,
 "nbformat_minor": 0
}
